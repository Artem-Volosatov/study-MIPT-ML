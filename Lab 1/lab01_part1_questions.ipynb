{
 "cells": [
  {
   "cell_type": "markdown",
   "metadata": {},
   "source": [
    "*Credits: materials from this notebook belong to YSDA [Practical DL](https://github.com/yandexdataschool/Practical_DL) course. Special thanks for making them available online.*"
   ]
  },
  {
   "cell_type": "markdown",
   "metadata": {},
   "source": [
    "# Lab assignment №1, part 1\n",
    "\n",
    "This lab assignment consists of several parts. You are supposed to make some transformations, train some models, estimate the quality of the models and explain your results.\n",
    "\n",
    "Several comments:\n",
    "* Don't hesitate to ask questions, it's a good practice.\n",
    "* No private/public sharing, please. The copied assignments will be graded with 0 points.\n",
    "* Blocks of this lab will be graded separately."
   ]
  },
  {
   "cell_type": "markdown",
   "metadata": {},
   "source": [
    "## 1. Matrix differentiation"
   ]
  },
  {
   "cell_type": "markdown",
   "metadata": {},
   "source": [
    "Since it easy to google every task please please please try to undestand what's going on. The \"just answer\" thing will be not counted, make sure to present derivation of your solution. It is absolutely OK if you found an answer on web then just exercise in $\\LaTeX$ copying it into here."
   ]
  },
  {
   "cell_type": "markdown",
   "metadata": {},
   "source": [
    "Useful links: \n",
    "[1](http://www.machinelearning.ru/wiki/images/2/2a/Matrix-Gauss.pdf)\n",
    "[2](http://www.atmos.washington.edu/~dennis/MatrixCalculus.pdf)"
   ]
  },
  {
   "cell_type": "markdown",
   "metadata": {},
   "source": [
    "## ex. 1"
   ]
  },
  {
   "cell_type": "markdown",
   "metadata": {},
   "source": [
    "$$  \n",
    "y = x^Tx,  \\quad x \\in \\mathbb{R}^N \n",
    "$$"
   ]
  },
  {
   "cell_type": "markdown",
   "metadata": {},
   "source": [
    "$$\n",
    "\\frac{dy}{dx} = \n",
    "$$ "
   ]
  },
  {
   "cell_type": "markdown",
   "metadata": {},
   "source": [
    "   $$y = x^Tx = \\sum_{i=1}^N x_i^2$$\n",
    "   $$\\frac{\\partial y}{\\partial x_j} = \\frac{\\partial}{\\partial x_j} \\sum_{i=1}^N x_i^2$$\n",
    "   $$\\frac{\\partial}{\\partial x_j} x_i^2 = 0,\\quad if \\ i \\neq j$$\n",
    "   $$\\frac{\\partial}{\\partial x_j} x_j^2 = 2x_j$$\n",
    "   $$\\forall j: \\quad \\frac{\\partial}{\\partial x_j} y = 2x_j$$"
   ]
  },
  {
   "cell_type": "markdown",
   "metadata": {},
   "source": [
    "Собираем обратно в вектор\n",
    "$$\\frac{dy}{dx} = 2x$$"
   ]
  },
  {
   "cell_type": "markdown",
   "metadata": {},
   "source": [
    "---"
   ]
  },
  {
   "cell_type": "markdown",
   "metadata": {},
   "source": [
    "## ex. 2"
   ]
  },
  {
   "cell_type": "markdown",
   "metadata": {},
   "source": [
    "$$ y = tr(AB) \\quad A,B \\in \\mathbb{R}^{N \\times N} $$ "
   ]
  },
  {
   "cell_type": "markdown",
   "metadata": {},
   "source": [
    "$$\n",
    "\\frac{dy}{dA} =\n",
    "$$"
   ]
  },
  {
   "cell_type": "markdown",
   "metadata": {},
   "source": [
    "   $$tr(AB) = \\sum_{i=1}^N \\sum_{j=1}^N A_{ij}B_{ji}$$\n",
    "\n",
    "   $$\\frac{\\partial y}{\\partial A_{kl}} = \\frac{\\partial}{\\partial A_{kl}} \\sum_{i=1}^N \\sum_{j=1}^N A_{ij}B_{ji} = B_{lk}$$\n",
    "   \n",
    "  \n",
    "   "
   ]
  },
  {
   "cell_type": "markdown",
   "metadata": {},
   "source": [
    "Собирая все частные производные в матрицу, получаем:\n",
    "\n",
    "   $$\\frac{dy}{dA} = B^T$$"
   ]
  },
  {
   "cell_type": "markdown",
   "metadata": {},
   "source": [
    "---"
   ]
  },
  {
   "cell_type": "markdown",
   "metadata": {},
   "source": [
    "## ex. 3"
   ]
  },
  {
   "cell_type": "markdown",
   "metadata": {},
   "source": [
    "$$  \n",
    "y = x^TAc , \\quad A\\in \\mathbb{R}^{N \\times N}, x\\in \\mathbb{R}^{N}, c\\in \\mathbb{R}^{N} \n",
    "$$"
   ]
  },
  {
   "cell_type": "markdown",
   "metadata": {},
   "source": [
    "$$\n",
    "\\frac{dy}{dx} =\n",
    "$$"
   ]
  },
  {
   "cell_type": "markdown",
   "metadata": {},
   "source": [
    "\n",
    "$$y = \\sum_{i=1}^N \\sum_{j=1}^N x_i A_{ij} c_j$$\n",
    "\n",
    "\n",
    "$$\\frac{\\partial y}{\\partial x_k} = \\sum_{j=1}^N A_{kj} c_j = (Ac)_k$$\n",
    "\n",
    "   Собирая все частные производные в вектор:\n",
    "     $$\\frac{dy}{dx} = Ac$$"
   ]
  },
  {
   "cell_type": "markdown",
   "metadata": {},
   "source": [
    "$$\n",
    "\\frac{dy}{dA} =\n",
    "$$ "
   ]
  },
  {
   "cell_type": "markdown",
   "metadata": {},
   "source": [
    " Cкаляр равен своему следу:\n",
    "  $$y = x^TAc = tr(x^TAc)$$\n",
    "   \n",
    "  \n",
    "  $$tr(x^TAc) = tr(cx^TA) = tr(Acx^T)$$\n",
    "\n",
    "Используя результат ex. 2 ($\\frac{d}{dA}tr(AB) = B^T$):\n",
    "     $$\\frac{dy}{dA} = (cx^T)^T = xc^T$$"
   ]
  },
  {
   "cell_type": "markdown",
   "metadata": {},
   "source": [
    "Hint for the latter (one of the ways): use *ex. 2* result and the fact \n",
    "$$\n",
    "tr(ABC) = tr (CAB)\n",
    "$$"
   ]
  },
  {
   "cell_type": "markdown",
   "metadata": {},
   "source": [
    "---"
   ]
  },
  {
   "cell_type": "markdown",
   "metadata": {},
   "source": [
    "## ex. 4"
   ]
  },
  {
   "cell_type": "markdown",
   "metadata": {},
   "source": [
    "Classic matrix factorization example. Given matrix $X$ you need to find $A$, $S$ to approximate $X$. This can be done by simple gradient descent iteratively alternating $A$ and $S$ updates.\n",
    "$$\n",
    "J = || X - AS ||_F^2  , \\quad A\\in \\mathbb{R}^{N \\times R} , \\quad S\\in \\mathbb{R}^{R \\times M}\n",
    "$$\n",
    "$$\n",
    "\\frac{dJ}{dS} = ? \n",
    "$$\n",
    "\n",
    "You may use one of the following approaches:"
   ]
  },
  {
   "cell_type": "markdown",
   "metadata": {},
   "source": [
    "1) Сначала распишем норму Фробениуса через след:\n",
    "   \n",
    "   $J = ||X - AS||_F^2 = tr((X-AS)(X-AS)^T)$\n",
    "\n",
    "2) Раскроем скобки:\n",
    "   \n",
    "   $J = tr((X-AS)(X^T-S^TA^T))$\n",
    "   \n",
    "   $J = tr(XX^T - XS^TA^T - ASX^T + ASS^TA^T)$\n",
    "\n",
    "3) Используя свойства следа:\n",
    "   * $tr(ABC) = tr(CAB)$\n",
    "   * $tr(A+B) = tr(A) + tr(B)$\n",
    "   * $tr(X) = tr(X^T)$\n",
    "   * $(AB)^T = B^TA^T$\n",
    "\n",
    "   Получаем:\n",
    "   \n",
    "   $J = tr(XX^T) - tr(XS^TA^T) - tr(ASX^T) + tr(ASS^TA^T)$\n",
    "   \n",
    "   $J = tr(XX^T) - 2tr(ASX^T) + tr(ASS^TA^T)$\n",
    "\n",
    "4) Теперь используем результат из ex.2 для нахождения производной по $S$:\n",
    "   $$\\frac{d}{dS}tr(ASX^T) = \\frac{d}{dS}tr(SX^TA) = (X^TA)^T = A^TX$$\n",
    "   $$\\frac{d}{dS}tr(ASS^TA^T) = \\frac{d}{dS}tr(SS^TA^TA) = (S^TA^TA)^T = 2A^TAS$$\n",
    "\n",
    "5) Поэтому:\n",
    "\n",
    "   $\\frac{dJ}{dS} = -2A^TX + 2A^TAS$\n",
    "   \n",
    "   $\\frac{dJ}{dS} = 2A^T(AS-X)$\n",
    "\n",
    "Итоговый ответ:\n",
    "$$\\frac{dJ}{dS} = 2A^T(AS-X)$$"
   ]
  },
  {
   "cell_type": "markdown",
   "metadata": {},
   "source": [
    "---"
   ]
  },
  {
   "cell_type": "markdown",
   "metadata": {},
   "source": [
    "#### First approach\n",
    "Using ex.2 and the fact:\n",
    "$$\n",
    "|| X ||_F^2 = tr(XX^T) \n",
    "$$ \n",
    "it is easy to derive gradients (you can find it in one of the refs). "
   ]
  },
  {
   "cell_type": "markdown",
   "metadata": {},
   "source": [
    "#### Second approach\n",
    "You can use *slightly different techniques* if they suits you. Take a look at this derivation:\n",
    "<img src=\"grad.png\">\n",
    "(excerpt from [Handbook of blind source separation, Jutten, page 517](https://books.google.ru/books?id=PTbj03bYH6kC&printsec=frontcover&dq=Handbook+of+Blind+Source+Separation&hl=en&sa=X&ved=0ahUKEwi-q_apiJDLAhULvXIKHVXJDWcQ6AEIHDAA#v=onepage&q=Handbook%20of%20Blind%20Source%20Separation&f=false), open for better picture)."
   ]
  },
  {
   "cell_type": "markdown",
   "metadata": {},
   "source": [
    "#### Third approach\n",
    "And finally we can use chain rule! \n",
    "let $ F = AS $ \n",
    "\n",
    "**Find**\n",
    "$$\n",
    "\\frac{dJ}{dF} =  \n",
    "$$ \n",
    "and \n",
    "$$\n",
    "\\frac{dF}{dS} =  \n",
    "$$ \n",
    "(the shape should be $ NM \\times RM )$.\n",
    "\n",
    "Now it is easy do get desired gradients:\n",
    "$$\n",
    "\\frac{dJ}{dS} =  \n",
    "$$ "
   ]
  },
  {
   "cell_type": "markdown",
   "metadata": {
    "collapsed": true,
    "jupyter": {
     "outputs_hidden": true
    }
   },
   "source": [
    "## 2. kNN questions\n",
    "Here come the questions from the assignment0_01. Please, refer to the assignment0_01 to get the context of the questions.\n",
    "\n",
    "## Ответы на эти вопросы есть в ДЗ1. Далее я их просто скопировал"
   ]
  },
  {
   "cell_type": "markdown",
   "metadata": {},
   "source": [
    "### Question 1\n",
    "\n",
    "Notice the structured patterns in the distance matrix, where some rows or columns are visible brighter. (Note that with the default color scheme black indicates low distances while white indicates high distances.)\n",
    "\n",
    "- What in the data is the cause behind the distinctly bright rows?\n",
    "- What causes the columns?\n",
    "\n",
    "*Your Answer:*\n",
    "\n",
    "\n"
   ]
  },
  {
   "cell_type": "markdown",
   "metadata": {},
   "source": [
    "*Яркие столбцы или строки указывают на существенное отличие объекта (строка -- из теста, столбец -- из трейна) от других объектов. Т.е. от этого объекта далеко до всех других, независимо от их класса. Такой объект может быть выбросом/ошибкой в данных*"
   ]
  },
  {
   "cell_type": "markdown",
   "metadata": {},
   "source": [
    "### Question 2\n",
    "\n",
    "We can also use other distance metrics such as L1 distance.\n",
    "For pixel values $p_{ij}^{(k)}$ at location $(i,j)$ of some image $I_k$, \n",
    "\n",
    "the mean $\\mu$ across all pixels over all images is $$\\mu=\\frac{1}{nhw}\\sum_{k=1}^n\\sum_{i=1}^{h}\\sum_{j=1}^{w}p_{ij}^{(k)}$$\n",
    "And the pixel-wise mean $\\mu_{ij}$ across all images is \n",
    "$$\\mu_{ij}=\\frac{1}{n}\\sum_{k=1}^np_{ij}^{(k)}.$$\n",
    "The general standard deviation $\\sigma$ and pixel-wise standard deviation $\\sigma_{ij}$ is defined similarly.\n",
    "\n",
    "Which of the following preprocessing steps will not change the performance of a Nearest Neighbor classifier that uses L1 distance? Select all that apply.\n",
    "1. Subtracting the mean $\\mu$ ($\\tilde{p}_{ij}^{(k)}=p_{ij}^{(k)}-\\mu$.)\n",
    "2. Subtracting the per pixel mean $\\mu_{ij}$  ($\\tilde{p}_{ij}^{(k)}=p_{ij}^{(k)}-\\mu_{ij}$.)\n",
    "3. Subtracting the mean $\\mu$ and dividing by the standard deviation $\\sigma$.\n",
    "4. Subtracting the pixel-wise mean $\\mu_{ij}$ and dividing by the pixel-wise standard deviation $\\sigma_{ij}$.\n",
    "5. Rotating the coordinate axes of the data.\n",
    "\n",
    "*Your Answer:*\n",
    "\n",
    "\n",
    "*Your Explanation:*\n",
    "\n"
   ]
  },
  {
   "cell_type": "markdown",
   "metadata": {},
   "source": [
    "1. **Не изменяет.** Мы сдвигаем все данные на один вектор. Расстояние между объектами при этом не меняются\n",
    "2. **Не изменяет.** Мы сдвигаем все данные на один вектор. Расстояние между объектами при этом не меняются\n",
    "3. **Не изменяет.** Мы сдвигаем все данные на один вектор. Затем масштабируем. Все расстояния при этом пропорционально изменятся. Но порядок соседей не поменяется\n",
    "4. **Изменяет.** При масштабировании мы меняем важность признаков. Если у одного признака был больший диапазон -- он давал больший вклад в расстояния и был важнее. Мы от этого отходим. Порядок соседей поменяется.\n",
    "5. **Изменяет.** При второй номе мы считаем расстояние \"двигаять только вдоль осей\". Повернув оси мы какие-то расстояния увеличим, какие-то уменьшим, порядок поменяется.\n",
    "\n",
    "Примечание -- в пунктах 1-4 поведение для L1 и L2 одинаково. В 5 пункте в L2 порядок соседей бы не поменялся.\n"
   ]
  },
  {
   "cell_type": "markdown",
   "metadata": {},
   "source": [
    "## Question 3\n",
    "\n",
    "Which of the following statements about $k$-Nearest Neighbor ($k$-NN) are true in a classification setting, and for all $k$? Select all that apply.\n",
    "1. The decision boundary (hyperplane between classes in feature space) of the k-NN classifier is linear.\n",
    "2. The training error of a 1-NN will always be lower than that of 5-NN.\n",
    "3. The test error of a 1-NN will always be lower than that of a 5-NN.\n",
    "4. The time needed to classify a test example with the k-NN classifier grows with the size of the training set.\n",
    "5. None of the above.\n",
    "\n",
    "*Your Answer:*\n",
    "\n",
    "\n",
    "*Your Explanation:*\n",
    "\n",
    "\n"
   ]
  },
  {
   "cell_type": "markdown",
   "metadata": {},
   "source": [
    "\n",
    "1. **False** Граница может иметь сложную форму\n",
    "2. **True**  При обучении каждый пример -- свой собственный сосед\n",
    "3. **False** Классификатор 5-NN гораздо устойчевее к переобучению и, обычно, показывает результат лучше\n",
    "4. **True**  Классификация нового примера требует вычисления расстояни до всех остальных примеров. Отсюда линейный рост.\n",
    "5. **False**\n",
    "\n",
    "\n",
    "\n"
   ]
  }
 ],
 "metadata": {
  "kernelspec": {
   "display_name": "mipt",
   "language": "python",
   "name": "mipt"
  },
  "language_info": {
   "codemirror_mode": {
    "name": "ipython",
    "version": 3
   },
   "file_extension": ".py",
   "mimetype": "text/x-python",
   "name": "python",
   "nbconvert_exporter": "python",
   "pygments_lexer": "ipython3",
   "version": "3.9.5"
  }
 },
 "nbformat": 4,
 "nbformat_minor": 4
}
