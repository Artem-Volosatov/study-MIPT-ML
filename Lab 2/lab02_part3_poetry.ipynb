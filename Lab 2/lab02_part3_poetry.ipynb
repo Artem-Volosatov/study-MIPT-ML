{
 "cells": [
  {
   "cell_type": "markdown",
   "metadata": {},
   "source": [
    "## Lab 2"
   ]
  },
  {
   "cell_type": "markdown",
   "metadata": {},
   "source": [
    "### Part 3. Poetry generation\n",
    "\n",
    "Let's try to generate some poetry using RNNs. \n",
    "\n",
    "You have several choices here: \n",
    "\n",
    "* The Shakespeare sonnets, file `sonnets.txt` available in the notebook directory.\n",
    "\n",
    "* Роман в стихах \"Евгений Онегин\" Александра Сергеевича Пушкина. В предобработанном виде доступен по [ссылке](https://github.com/attatrol/data_sources/blob/master/onegin.txt).\n",
    "\n",
    "* Some other text source, if it will be approved by the course staff.\n",
    "\n",
    "Text generation can be designed in several steps:\n",
    "    \n",
    "1. Data loading.\n",
    "2. Dictionary generation.\n",
    "3. Data preprocessing.\n",
    "4. Model (neural network) training.\n",
    "5. Text generation (model evaluation).\n"
   ]
  },
  {
   "cell_type": "code",
   "execution_count": 1,
   "metadata": {},
   "outputs": [],
   "source": [
    "import string\n",
    "import os\n",
    "import torch\n",
    "import torch.nn as nn\n",
    "import torch.nn.functional as F\n",
    "import numpy as np\n",
    "import matplotlib.pyplot as plt\n"
   ]
  },
  {
   "cell_type": "markdown",
   "metadata": {},
   "source": [
    "### Data loading: Shakespeare"
   ]
  },
  {
   "cell_type": "markdown",
   "metadata": {},
   "source": [
    "Shakespeare sonnets are awailable at this [link](http://www.gutenberg.org/ebooks/1041?msg=welcome_stranger). In addition, they are stored in the same directory as this notebook (`sonnetes.txt`). Simple preprocessing is already done for you in the next cell: all technical info is dropped."
   ]
  },
  {
   "cell_type": "code",
   "execution_count": 2,
   "metadata": {
    "collapsed": true
   },
   "outputs": [],
   "source": [
    "# if not os.path.exists('sonnets.txt'):\n",
    "#     !wget https://raw.githubusercontent.com/girafe-ai/ml-course/22f_basic/homeworks_basic/lab02_deep_learning/sonnets.txt\n",
    "\n",
    "with open('sonnets.txt', 'r') as iofile:\n",
    "    text = iofile.readlines()\n",
    "    \n",
    "TEXT_START = 45\n",
    "TEXT_END = -368\n",
    "text = text[TEXT_START : TEXT_END]\n",
    "assert len(text) == 2616"
   ]
  },
  {
   "cell_type": "markdown",
   "metadata": {},
   "source": [
    "In opposite to the in-class practice, this time we want to predict complex text. Let's reduce the complexity of the task and lowercase all the symbols.\n",
    "\n",
    "Now variable `text` is a list of strings. Join all the strings into one and lowercase it."
   ]
  },
  {
   "cell_type": "code",
   "execution_count": 3,
   "metadata": {},
   "outputs": [
    {
     "name": "stdout",
     "output_type": "stream",
     "text": [
      "OK!\n"
     ]
    }
   ],
   "source": [
    "# Join all the strings into one and lowercase it\n",
    "# Put result into variable text.\n",
    "\n",
    "text = ''.join(text).lower()\n",
    "\n",
    "assert len(text) == 100225, 'Are you sure you have concatenated all the strings?'\n",
    "assert not any([x in set(text) for x in string.ascii_uppercase]), 'Uppercase letters are present'\n",
    "print('OK!')"
   ]
  },
  {
   "cell_type": "markdown",
   "metadata": {},
   "source": [
    "### Data loading: \"Евгений Онегин\"\n"
   ]
  },
  {
   "cell_type": "code",
   "execution_count": 4,
   "metadata": {},
   "outputs": [],
   "source": [
    "# !wget https://raw.githubusercontent.com/attatrol/data_sources/master/onegin.txt\n",
    "    \n",
    "# with open('onegin.txt', 'r') as iofile:\n",
    "#     text = iofile.readlines()\n",
    "    \n",
    "# text = [x.replace('\\t\\t', '') for x in text]"
   ]
  },
  {
   "cell_type": "markdown",
   "metadata": {},
   "source": [
    "In opposite to the in-class practice, this time we want to predict complex text. Let's reduce the complexity of the task and lowercase all the symbols.\n",
    "\n",
    "Now variable `text` is a list of strings. Join all the strings into one and lowercase it."
   ]
  },
  {
   "cell_type": "code",
   "execution_count": 5,
   "metadata": {},
   "outputs": [],
   "source": [
    "# Join all the strings into one and lowercase it\n",
    "# Put result into variable text.\n",
    "\n",
    "# Your great code here\n"
   ]
  },
  {
   "cell_type": "markdown",
   "metadata": {},
   "source": [
    "Put all the characters, that you've seen in the text, into variable `tokens`."
   ]
  },
  {
   "cell_type": "code",
   "execution_count": 6,
   "metadata": {},
   "outputs": [
    {
     "name": "stdout",
     "output_type": "stream",
     "text": [
      "Total unique tokens: 38\n"
     ]
    }
   ],
   "source": [
    "tokens = sorted(set(text))\n",
    "vocab_size = len(tokens)\n",
    "print(f'Total unique tokens: {vocab_size}')"
   ]
  },
  {
   "cell_type": "markdown",
   "metadata": {},
   "source": [
    "Create dictionary `token_to_idx = {<char>: <index>}` and dictionary `idx_to_token = {<index>: <char>}`"
   ]
  },
  {
   "cell_type": "code",
   "execution_count": 7,
   "metadata": {},
   "outputs": [],
   "source": [
    "def idx_to_onehot(idx, vocab_size):\n",
    "    onehot = np.zeros(vocab_size)\n",
    "    onehot[idx] = 1\n",
    "    return onehot\n",
    "\n",
    "def onehot_to_idx(onehot):\n",
    "    return np.argmax(onehot)"
   ]
  },
  {
   "cell_type": "code",
   "execution_count": 8,
   "metadata": {
    "collapsed": true
   },
   "outputs": [],
   "source": [
    "# dict <index>:<char>\n",
    "idx_to_token = {idx: char for idx, char in enumerate(tokens)}\n",
    "\n",
    "# dict <char>:<index>\n",
    "token_to_idx = {char: idx for idx, char in enumerate(tokens)}"
   ]
  },
  {
   "cell_type": "code",
   "execution_count": 9,
   "metadata": {},
   "outputs": [],
   "source": [
    "text_onehot = np.array([idx_to_onehot(token_to_idx[char], vocab_size) for char in text])"
   ]
  },
  {
   "cell_type": "markdown",
   "metadata": {},
   "source": [
    "*Comment: in this task we have only 38 different tokens, so let's use one-hot encoding.*"
   ]
  },
  {
   "cell_type": "markdown",
   "metadata": {},
   "source": [
    "### Building the model"
   ]
  },
  {
   "cell_type": "markdown",
   "metadata": {},
   "source": [
    "Now we want to build and train recurrent neural net which would be able to something similar to Shakespeare's poetry.\n",
    "\n",
    "Let's use vanilla RNN, similar to the one created during the lesson."
   ]
  },
  {
   "cell_type": "code",
   "execution_count": 10,
   "metadata": {},
   "outputs": [],
   "source": [
    "MAX_LENGTH = 100\n",
    "SEQ_LENGTH = 100\n",
    "BATCH_SIZE = 16\n",
    "HIDDEN_SIZE = 128\n",
    "EMBEDDING_DIM = 64\n",
    "NUM_EPOCHS = 50\n",
    "LEARNING_RATE = 0.0005"
   ]
  },
  {
   "cell_type": "code",
   "execution_count": 11,
   "metadata": {},
   "outputs": [],
   "source": [
    "class CharRNN(torch.nn.Module):\n",
    "    def __init__(self, input_size, embedding_size, hidden_size, output_size):\n",
    "        super(CharRNN, self).__init__()\n",
    "        self.hidden_size = hidden_size\n",
    "        self.embedding = torch.nn.Embedding(input_size, embedding_size)\n",
    "        self.rnn = torch.nn.RNN(embedding_size, hidden_size)\n",
    "        self.fc = torch.nn.Linear(hidden_size, output_size)\n",
    "\n",
    "    def forward(self, x, hidden):\n",
    "        x = self.embedding(x).view(1, 1, -1)\n",
    "        output, hidden = self.rnn(x, hidden)\n",
    "        output = self.fc(output.view(1, -1))\n",
    "        return output, hidden\n",
    "\n",
    "    def initial_state(self, batch_size=1):\n",
    "        return torch.zeros(1, batch_size, self.hidden_size)"
   ]
  },
  {
   "cell_type": "code",
   "execution_count": 12,
   "metadata": {},
   "outputs": [],
   "source": [
    "model = CharRNN(len(tokens), EMBEDDING_DIM, HIDDEN_SIZE, len(tokens))\n",
    "criterion = torch.nn.CrossEntropyLoss()\n",
    "optimizer = torch.optim.Adam(model.parameters(), lr=LEARNING_RATE)"
   ]
  },
  {
   "cell_type": "code",
   "execution_count": 13,
   "metadata": {},
   "outputs": [
    {
     "name": "stdout",
     "output_type": "stream",
     "text": [
      "Epoch [1/50], Loss: 173.6642\n",
      "Epoch [2/50], Loss: 164.1364\n",
      "Epoch [3/50], Loss: 158.0147\n",
      "Epoch [4/50], Loss: 153.6969\n",
      "Epoch [5/50], Loss: 151.0183\n",
      "Epoch [6/50], Loss: 149.3464\n",
      "Epoch [7/50], Loss: 148.2631\n",
      "Epoch [8/50], Loss: 147.4918\n",
      "Epoch [9/50], Loss: 146.8507\n",
      "Epoch [10/50], Loss: 146.2444\n",
      "Epoch [11/50], Loss: 145.5848\n",
      "Epoch [12/50], Loss: 144.8101\n",
      "Epoch [13/50], Loss: 143.9624\n",
      "Epoch [14/50], Loss: 143.1188\n",
      "Epoch [15/50], Loss: 142.3220\n",
      "Epoch [16/50], Loss: 141.6100\n",
      "Epoch [17/50], Loss: 140.9945\n",
      "Epoch [18/50], Loss: 140.4630\n",
      "Epoch [19/50], Loss: 139.9926\n",
      "Epoch [20/50], Loss: 139.5563\n",
      "Epoch [21/50], Loss: 139.1251\n",
      "Epoch [22/50], Loss: 138.6771\n",
      "Epoch [23/50], Loss: 138.2103\n",
      "Epoch [24/50], Loss: 137.7382\n",
      "Epoch [25/50], Loss: 137.2759\n",
      "Epoch [26/50], Loss: 136.8343\n",
      "Epoch [27/50], Loss: 136.4237\n",
      "Epoch [28/50], Loss: 136.0556\n",
      "Epoch [29/50], Loss: 135.7399\n",
      "Epoch [30/50], Loss: 135.4720\n",
      "Epoch [31/50], Loss: 135.2263\n",
      "Epoch [32/50], Loss: 134.9672\n",
      "Epoch [33/50], Loss: 134.6628\n",
      "Epoch [34/50], Loss: 134.2943\n",
      "Epoch [35/50], Loss: 133.8562\n",
      "Epoch [36/50], Loss: 133.3510\n",
      "Epoch [37/50], Loss: 132.7898\n",
      "Epoch [38/50], Loss: 132.1900\n",
      "Epoch [39/50], Loss: 131.5679\n",
      "Epoch [40/50], Loss: 130.9293\n",
      "Epoch [41/50], Loss: 130.2645\n",
      "Epoch [42/50], Loss: 129.5631\n",
      "Epoch [43/50], Loss: 128.8276\n",
      "Epoch [44/50], Loss: 128.0650\n",
      "Epoch [45/50], Loss: 127.2873\n",
      "Epoch [46/50], Loss: 126.5387\n",
      "Epoch [47/50], Loss: 125.8799\n",
      "Epoch [48/50], Loss: 125.3374\n",
      "Epoch [49/50], Loss: 124.9253\n",
      "Epoch [50/50], Loss: 124.6172\n"
     ]
    },
    {
     "data": {
      "image/png": "[encoded data removed]",
      "text/plain": [
       "<Figure size 640x480 with 1 Axes>"
      ]
     },
     "metadata": {},
     "output_type": "display_data"
    }
   ],
   "source": [
    "losses = []\n",
    "for epoch in range(NUM_EPOCHS):\n",
    "    for i in range(0, len(text) - SEQ_LENGTH, SEQ_LENGTH):\n",
    "        # Prepare input and target tensors\n",
    "        input_seq = [token_to_idx[ch] for ch in text[i:i + SEQ_LENGTH]]\n",
    "        target_seq = [token_to_idx[ch] for ch in text[i + 1:i + 1 + SEQ_LENGTH]]\n",
    "        input_seq = torch.tensor(input_seq).unsqueeze(1)\n",
    "        target_seq = torch.tensor(target_seq)\n",
    "\n",
    "        # Initialize hidden state\n",
    "        hidden = model.initial_state()\n",
    "\n",
    "        # Zero the gradients\n",
    "        optimizer.zero_grad()\n",
    "\n",
    "        # Forward pass\n",
    "        loss = 0\n",
    "        for j in range(SEQ_LENGTH):\n",
    "            output, hidden = model(input_seq[j], hidden)\n",
    "            loss += criterion(output, target_seq[j].unsqueeze(0))\n",
    "\n",
    "        # Backward pass and optimization\n",
    "        loss.backward()\n",
    "        optimizer.step()\n",
    "\n",
    "    # Print the loss for every epoch\n",
    "    print(f'Epoch [{epoch+1}/{NUM_EPOCHS}], Loss: {loss.item():.4f}')\n",
    "    losses.append(loss.item())\n",
    "\n",
    "# Plot the loss function\n",
    "plt.plot(losses)\n",
    "plt.xlabel(\"Epoch\")\n",
    "plt.ylabel(\"Loss\")\n",
    "plt.title(\"Training Loss over Epochs\")\n",
    "plt.show()"
   ]
  },
  {
   "cell_type": "markdown",
   "metadata": {},
   "source": [
    "Plot the loss function (axis X: number of epochs, axis Y: loss function)."
   ]
  },
  {
   "cell_type": "code",
   "execution_count": 14,
   "metadata": {},
   "outputs": [],
   "source": [
    "def generate_sample(char_rnn, seed_phrase=' hello', max_length=500, temperature=1.0):\n",
    "   \n",
    "    char_rnn.eval()  # Set to evaluation mode\n",
    "    generated = seed_phrase\n",
    "    hidden_state = char_rnn.initial_state(batch_size=1)\n",
    "    \n",
    "    # Feed the seed phrase\n",
    "    for char in seed_phrase[:-1]:\n",
    "        char_input = torch.tensor([[token_to_idx[char]]], dtype=torch.long)\n",
    "        _, hidden_state = char_rnn(char_input, hidden_state)\n",
    "    \n",
    "    last_char = seed_phrase[-1]\n",
    "    \n",
    "    for _ in range(max_length - len(seed_phrase)):\n",
    "        char_input = torch.tensor([[token_to_idx[last_char]]], dtype=torch.long)\n",
    "        logits, hidden_state = char_rnn(char_input, hidden_state)\n",
    "        logits = logits / temperature\n",
    "        probs = F.softmax(logits, dim=1).data.cpu().numpy().flatten()\n",
    "        next_idx = np.random.choice(len(tokens), p=probs)\n",
    "        next_char = idx_to_token[next_idx]\n",
    "        generated += next_char\n",
    "        last_char = next_char\n",
    "    \n",
    "    return generated"
   ]
  },
  {
   "cell_type": "code",
   "execution_count": 15,
   "metadata": {},
   "outputs": [
    {
     "name": "stdout",
     "output_type": "stream",
     "text": [
      "Temperature: 0.1\n",
      "love the store to should not the love thee thy self thou art thou thee thy sweet for the world in the store to should my sweet be the store to should my love thee the world my love thee that i am not \n",
      "--------------------------------------------------\n",
      "Temperature: 0.2\n",
      "love the lies my self thou dost beauty being that the store to subject thou thy self thou thee thy sweet for my love i have sweet soul, that i am all thee thy fair should i thou thy self thou thee tha\n",
      "--------------------------------------------------\n",
      "Temperature: 0.4\n",
      "love the sweet forgot for the store,\n",
      "    and thou dost as my love to should not the beauty my that i will i coving thee that i what who chear thy self thou lov'd;\n",
      "  and thou thou thy shall be i compou\n",
      "--------------------------------------------------\n",
      "Temperature: 0.5\n",
      "love that love that thou that me in thee which for the worthiness wronger thee thy love thee thy love that i and for the world the world of the world not stoous my verse is thy love i have sweet thy n\n",
      "--------------------------------------------------\n",
      "Temperature: 0.6\n",
      "love thee which the very line, thou hath thou would me of thine,\n",
      "  and better that bright enow me of more, one do i shall see not from their prove.\n",
      "    which of fair,\n",
      "  and put when as thou art thy so\n",
      "--------------------------------------------------\n",
      "Temperature: 1.0\n",
      "love than this, in thou will change heart what stain enesof pity, why why fran thus: all of stores from thee;\n",
      "    but 'tis gaves well i in londing plows who in thine, thy might,\n",
      "  exture haphle not st\n",
      "--------------------------------------------------\n",
      "Temperature: 2.0\n",
      "love oal, frr,\n",
      "  txzyigs till of su'te, birioy?\n",
      "  yet thushiinfr wasp:,\n",
      "  this be loving post.\n",
      "\n",
      "  luiind buvi:  south no hound,\n",
      "   to efsosts of gawey,\n",
      "  o nat coece;\n",
      "    fol i do gutw thy note'sted t\n",
      "--------------------------------------------------\n"
     ]
    }
   ],
   "source": [
    "# An example of generated text.\n",
    "temperatures = [0.1, 0.2, 0.4, 0.5, 0.6, 1.0, 2.0]\n",
    "for temp in temperatures:\n",
    "    print(f\"Temperature: {temp}\")\n",
    "    print(generate_sample(model, seed_phrase=\"love \", max_length=200, temperature=temp))\n",
    "    print(\"-\" * 50)\n"
   ]
  },
  {
   "cell_type": "markdown",
   "metadata": {},
   "source": [
    "### More poetic model\n",
    "\n",
    "Let's use LSTM instead of vanilla RNN and compare the results."
   ]
  },
  {
   "cell_type": "markdown",
   "metadata": {},
   "source": [
    "Plot the loss function of the number of epochs. Does the final loss become better?"
   ]
  },
  {
   "cell_type": "code",
   "execution_count": 16,
   "metadata": {},
   "outputs": [],
   "source": [
    "class LSTM(torch.nn.Module):\n",
    "    def __init__(self, input_size, embedding_size, hidden_size, output_size):\n",
    "        super(LSTM, self).__init__()\n",
    "        self.hidden_size = hidden_size\n",
    "        self.embedding = torch.nn.Embedding(input_size, embedding_size)\n",
    "        self.rnn = torch.nn.LSTM(embedding_size, hidden_size)\n",
    "        self.fc = torch.nn.Linear(hidden_size, output_size)\n",
    "\n",
    "    def forward(self, x, hidden):\n",
    "        x = self.embedding(x).view(1, 1, -1)\n",
    "        output, hidden = self.rnn(x, hidden)  \n",
    "        output = self.fc(output.view(1, -1))\n",
    "        return output, hidden\n",
    "\n",
    "    def initial_state(self, batch_size=1):\n",
    "        return (torch.zeros(1, batch_size, self.hidden_size),\n",
    "                torch.zeros(1, batch_size, self.hidden_size))"
   ]
  },
  {
   "cell_type": "code",
   "execution_count": 17,
   "metadata": {},
   "outputs": [],
   "source": [
    "model_LSTM = LSTM(len(tokens), EMBEDDING_DIM, HIDDEN_SIZE, len(tokens))\n",
    "criterion = torch.nn.CrossEntropyLoss()\n",
    "optimizer = torch.optim.Adam(model_LSTM.parameters(), lr=LEARNING_RATE)"
   ]
  },
  {
   "cell_type": "code",
   "execution_count": 18,
   "metadata": {},
   "outputs": [
    {
     "name": "stdout",
     "output_type": "stream",
     "text": [
      "Epoch [1/50], Loss: 172.9455\n",
      "Epoch [2/50], Loss: 162.8288\n",
      "Epoch [3/50], Loss: 157.8549\n",
      "Epoch [4/50], Loss: 155.4223\n",
      "Epoch [5/50], Loss: 153.2479\n",
      "Epoch [6/50], Loss: 151.6465\n",
      "Epoch [7/50], Loss: 150.3747\n",
      "Epoch [8/50], Loss: 148.8296\n",
      "Epoch [9/50], Loss: 147.1598\n",
      "Epoch [10/50], Loss: 145.5684\n",
      "Epoch [11/50], Loss: 144.0145\n",
      "Epoch [12/50], Loss: 142.4361\n",
      "Epoch [13/50], Loss: 140.9568\n",
      "Epoch [14/50], Loss: 139.6678\n",
      "Epoch [15/50], Loss: 138.5544\n",
      "Epoch [16/50], Loss: 137.5213\n",
      "Epoch [17/50], Loss: 136.4870\n",
      "Epoch [18/50], Loss: 135.5153\n",
      "Epoch [19/50], Loss: 134.4464\n",
      "Epoch [20/50], Loss: 133.5018\n",
      "Epoch [21/50], Loss: 132.6559\n",
      "Epoch [22/50], Loss: 131.9632\n",
      "Epoch [23/50], Loss: 131.2856\n",
      "Epoch [24/50], Loss: 130.9387\n",
      "Epoch [25/50], Loss: 130.6755\n",
      "Epoch [26/50], Loss: 130.2455\n",
      "Epoch [27/50], Loss: 129.7425\n",
      "Epoch [28/50], Loss: 129.3440\n",
      "Epoch [29/50], Loss: 129.0021\n",
      "Epoch [30/50], Loss: 128.9016\n",
      "Epoch [31/50], Loss: 129.0075\n",
      "Epoch [32/50], Loss: 129.2595\n",
      "Epoch [33/50], Loss: 129.5943\n",
      "Epoch [34/50], Loss: 129.6192\n",
      "Epoch [35/50], Loss: 129.6368\n",
      "Epoch [36/50], Loss: 130.0603\n",
      "Epoch [37/50], Loss: 129.6606\n",
      "Epoch [38/50], Loss: 129.8831\n",
      "Epoch [39/50], Loss: 129.6889\n",
      "Epoch [40/50], Loss: 129.2871\n",
      "Epoch [41/50], Loss: 129.4568\n",
      "Epoch [42/50], Loss: 129.0573\n",
      "Epoch [43/50], Loss: 129.9117\n",
      "Epoch [44/50], Loss: 129.0728\n",
      "Epoch [45/50], Loss: 129.4449\n",
      "Epoch [46/50], Loss: 128.2750\n",
      "Epoch [47/50], Loss: 129.6744\n",
      "Epoch [48/50], Loss: 128.2197\n",
      "Epoch [49/50], Loss: 127.9477\n",
      "Epoch [50/50], Loss: 130.1343\n"
     ]
    },
    {
     "data": {
      "image/png": "[encoded data removed]",
      "text/plain": [
       "<Figure size 640x480 with 1 Axes>"
      ]
     },
     "metadata": {},
     "output_type": "display_data"
    }
   ],
   "source": [
    "losses = []\n",
    "for epoch in range(NUM_EPOCHS):\n",
    "    for i in range(0, len(text) - SEQ_LENGTH, SEQ_LENGTH):\n",
    "        # Prepare input and target tensors\n",
    "        input_seq = [token_to_idx[ch] for ch in text[i:i + SEQ_LENGTH]]\n",
    "        target_seq = [token_to_idx[ch] for ch in text[i + 1:i + 1 + SEQ_LENGTH]]\n",
    "        input_seq = torch.tensor(input_seq).unsqueeze(1)\n",
    "        target_seq = torch.tensor(target_seq)\n",
    "\n",
    "        # Initialize hidden state\n",
    "        hidden = model_LSTM.initial_state()\n",
    "\n",
    "        # Zero the gradients\n",
    "        optimizer.zero_grad()\n",
    "\n",
    "        # Forward pass\n",
    "        loss = 0\n",
    "        for j in range(SEQ_LENGTH):\n",
    "            output, hidden = model_LSTM(input_seq[j], hidden)\n",
    "            loss += criterion(output, target_seq[j].unsqueeze(0))\n",
    "\n",
    "        # Backward pass and optimization\n",
    "        loss.backward()\n",
    "        optimizer.step()\n",
    "\n",
    "    # Print the loss for every epoch\n",
    "    print(f'Epoch [{epoch+1}/{NUM_EPOCHS}], Loss: {loss.item():.4f}')\n",
    "    losses.append(loss.item())\n",
    "\n",
    "# Plot the loss function\n",
    "plt.plot(losses)\n",
    "plt.xlabel(\"Epoch\")\n",
    "plt.ylabel(\"Loss\")\n",
    "plt.title(\"Training Loss over Epochs\")\n",
    "plt.show()"
   ]
  },
  {
   "cell_type": "markdown",
   "metadata": {},
   "source": [
    "Generate text using the trained net with different `temperature` parameter: `[0.1, 0.2, 0.5, 1.0, 2.0]`.\n",
    "\n",
    "Evaluate the results visually, try to interpret them."
   ]
  },
  {
   "cell_type": "code",
   "execution_count": 19,
   "metadata": {
    "collapsed": true
   },
   "outputs": [],
   "source": [
    "def generate_sample(char_rnn, seed_phrase=' hello', max_length=500, temperature=1.0):\n",
    "    char_rnn.eval()\n",
    "    generated = seed_phrase\n",
    "    hidden_state = char_rnn.initial_state(batch_size=1)\n",
    "\n",
    "    # Feed the seed phrase\n",
    "    for char in seed_phrase[:-1]:\n",
    "        char_input = torch.tensor([[token_to_idx[char]]], dtype=torch.long)\n",
    "        _, hidden_state = char_rnn(char_input, hidden_state)\n",
    "\n",
    "    last_char = seed_phrase[-1]\n",
    "\n",
    "    for _ in range(max_length - len(seed_phrase)):\n",
    "        char_input = torch.tensor([[token_to_idx[last_char]]], dtype=torch.long)\n",
    "        logits, hidden_state = char_rnn(char_input, hidden_state)\n",
    "        logits = logits / temperature\n",
    "        probs = F.softmax(logits, dim=1).data.cpu().numpy().flatten()\n",
    "        next_idx = np.random.choice(len(tokens), p=probs)\n",
    "        next_char = idx_to_token[next_idx]\n",
    "        generated += next_char\n",
    "        last_char = next_char\n",
    "\n",
    "    return generated"
   ]
  },
  {
   "cell_type": "code",
   "execution_count": 20,
   "metadata": {},
   "outputs": [
    {
     "name": "stdout",
     "output_type": "stream",
     "text": [
      "Temperature: 0.1\n",
      "love thee,\n",
      "    to make the true love that false eyes of the lies,\n",
      "  that thou art thy self thou art thy store,\n",
      "  and thou art thou the substance can love's with thee,\n",
      "  when i have so thoughts me thou\n",
      "--------------------------------------------------\n",
      "Temperature: 0.2\n",
      "love thee,\n",
      "    that thou art thy self and me that thou art thee,\n",
      "  who hath not so thy fair the will's eye doth thee.\n",
      "\n",
      "  cxiii\n",
      "\n",
      "  what i consentle of the fairest can see thee.\n",
      "\n",
      "  cliii\n",
      "\n",
      "  loving the t\n",
      "--------------------------------------------------\n",
      "Temperature: 0.4\n",
      "love thee,\n",
      "    the straight a worthers argument to the lies;\n",
      "  and the make my love that my store,\n",
      "  which i course to the expirity doth prove\n",
      "  and so my heart to be not to the least best,\n",
      "  that tho\n",
      "--------------------------------------------------\n",
      "Temperature: 0.5\n",
      "love thee.\n",
      "    to the earth they is as the less thy sinful earth,\n",
      "  and they see that i am not mine own love,\n",
      "  to make thou mine eyes know sweet frowne;\n",
      "  but thou art thou to be book, which in thy p\n",
      "--------------------------------------------------\n",
      "Temperature: 0.6\n",
      "love thee.\n",
      "    then sound thy fair the follone own sweet from thy friend\n",
      "  from me thou shalt i then i see thou art,\n",
      "  or her fight, who hate, as reckon'd not.\n",
      "\n",
      "  cxvi\n",
      "\n",
      "  what it not as foul with thy \n",
      "--------------------------------------------------\n",
      "Temperature: 1.0\n",
      "love theeath doth grace i love my outwhered place;\n",
      "  and with flower any his all they one dye\n",
      "  and say tay of have facults did not,\n",
      "    and, to bose have sweet that hath all doth hind,\n",
      "  and extidain\n",
      "--------------------------------------------------\n",
      "Temperature: 2.0\n",
      "love a coly;\n",
      "  'wiftil, adons, in, so fay! in, is statch wich:\n",
      "  weath blary dupit: so;\n",
      "  like plafmes tayl those pubprovovedfur is,\n",
      "    but heleblivannomed aswolven their devict,\n",
      "  i amds if tauck ti\n",
      "--------------------------------------------------\n"
     ]
    }
   ],
   "source": [
    "temperatures = [0.1, 0.2, 0.4, 0.5, 0.6, 1.0, 2.0]\n",
    "for temp in temperatures:\n",
    "    print(f\"Temperature: {temp}\")\n",
    "    print(generate_sample(model_LSTM, seed_phrase=\"love \", max_length=200, temperature=temp))\n",
    "    print(\"-\" * 50)\n"
   ]
  },
  {
   "cell_type": "markdown",
   "metadata": {},
   "source": [
    "### Saving and loading models"
   ]
  },
  {
   "cell_type": "markdown",
   "metadata": {},
   "source": [
    "Save the model to the disk, then load it and generate text. Examples are available [here](https://pytorch.org/tutorials/beginner/saving_loading_models.html])."
   ]
  },
  {
   "cell_type": "code",
   "execution_count": 21,
   "metadata": {
    "collapsed": true
   },
   "outputs": [],
   "source": [
    "# Сохранение\n",
    "torch.save(model.state_dict(), 'char_rnn_model.pth')\n",
    "torch.save(model_LSTM.state_dict(), 'LSTM_model.pth')\n",
    "\n",
    "# # Загрузка\n",
    "# loaded_model = CharRNN(INPUT_SIZE, HIDDEN_SIZE, OUTPUT_SIZE)\n",
    "# loaded_model.load_state_dict(torch.load('char_rnn_model.pth'))"
   ]
  },
  {
   "cell_type": "markdown",
   "metadata": {},
   "source": [
    "### References\n",
    "1. <a href='http://karpathy.github.io/2015/05/21/rnn-effectiveness/'> Andrew Karpathy blog post about RNN. </a> \n",
    "There are several examples of genration: Shakespeare texts, Latex formulas, Linux Sourse Code and children names.\n",
    "2. <a href='https://github.com/karpathy/char-rnn'> Repo with char-rnn code </a>\n",
    "3. Cool repo with PyTorch examples: [link](https://github.com/spro/practical-pytorch`)"
   ]
  }
 ],
 "metadata": {
  "anaconda-cloud": {},
  "kernelspec": {
   "display_name": "base",
   "language": "python",
   "name": "python3"
  },
  "language_info": {
   "codemirror_mode": {
    "name": "ipython",
    "version": 3
   },
   "file_extension": ".py",
   "mimetype": "text/x-python",
   "name": "python",
   "nbconvert_exporter": "python",
   "pygments_lexer": "ipython3",
   "version": "3.11.5"
  }
 },
 "nbformat": 4,
 "nbformat_minor": 2
}
